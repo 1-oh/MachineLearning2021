{
  "nbformat": 4,
  "nbformat_minor": 0,
  "metadata": {
    "accelerator": "GPU",
    "colab": {
      "name": "SHARE MLSpring2021 - HW2-1.ipynb",
      "provenance": [],
      "include_colab_link": true
    },
    "kernelspec": {
      "display_name": "Python 3",
      "name": "python3"
    }
  },
  "cells": [
    {
      "cell_type": "markdown",
      "metadata": {
        "id": "view-in-github",
        "colab_type": "text"
      },
      "source": [
        "<a href=\"https://colab.research.google.com/github/1-oh/MachineLearning2021/blob/Homework2/HW02/HW02-1.ipynb\" target=\"_parent\"><img src=\"https://colab.research.google.com/assets/colab-badge.svg\" alt=\"Open In Colab\"/></a>"
      ]
    },
    {
      "cell_type": "markdown",
      "metadata": {
        "id": "OYlaRwNu7ojq"
      },
      "source": [
        "# **Homework 2-1 Phoneme Classification**\n",
        "\n",
        "* Slides: https://speech.ee.ntu.edu.tw/~hylee/ml/ml2021-course-data/hw/HW02/HW02.pdf\n",
        "* Video (Chinese): https://youtu.be/PdjXnQbu2zo\n",
        "* Video (English): https://youtu.be/ESRr-VCykBs\n"
      ]
    },
    {
      "cell_type": "markdown",
      "metadata": {
        "id": "emUd7uS7crTz"
      },
      "source": [
        "## The DARPA TIMIT Acoustic-Phonetic Continuous Speech Corpus (TIMIT)\n",
        "The TIMIT corpus of reading speech has been designed to provide speech data for the acquisition of acoustic-phonetic knowledge and for the development and evaluation of automatic speech recognition systems.\n",
        "\n",
        "This homework is a multiclass classification task,\n",
        "we are going to train a deep neural network classifier to predict the phonemes for each frame from the speech corpus TIMIT.\n",
        "\n",
        "link: https://academictorrents.com/details/34e2b78745138186976cbc27939b1b34d18bd5b3"
      ]
    },
    {
      "cell_type": "markdown",
      "metadata": {
        "id": "KVUGfWTo7_Oj"
      },
      "source": [
        "## Download Data\n",
        "Download data from google drive, then unzip it.\n",
        "\n",
        "You should have `timit_11/train_11.npy`, `timit_11/train_label_11.npy`, and `timit_11/test_11.npy` after running this block.<br><br>\n",
        "`timit_11/`\n",
        "- `train_11.npy`: training data<br>\n",
        "- `train_label_11.npy`: training label<br>\n",
        "- `test_11.npy`:  testing data<br><br>\n",
        "\n",
        "**notes: if the google drive link is dead, you can download the data directly from Kaggle and upload it to the workspace**\n",
        "\n",
        "\n"
      ]
    },
    {
      "cell_type": "code",
      "metadata": {
        "colab": {
          "base_uri": "https://localhost:8080/"
        },
        "id": "OzkiMEcC3Foq",
        "outputId": "d026bba9-31e6-4e34-eea0-cc553030cbb1"
      },
      "source": [
        "!gdown --id '1HPkcmQmFGu-3OknddKIa5dNDsR05lIQR' --output data.zip\n",
        "!unzip data.zip\n",
        "!ls"
      ],
      "execution_count": null,
      "outputs": [
        {
          "output_type": "stream",
          "name": "stdout",
          "text": [
            "/usr/local/lib/python3.11/dist-packages/gdown/__main__.py:140: FutureWarning: Option `--id` was deprecated in version 4.3.1 and will be removed in 5.0. You don't need to pass it anymore to use a file ID.\n",
            "  warnings.warn(\n",
            "Downloading...\n",
            "From (original): https://drive.google.com/uc?id=1HPkcmQmFGu-3OknddKIa5dNDsR05lIQR\n",
            "From (redirected): https://drive.google.com/uc?id=1HPkcmQmFGu-3OknddKIa5dNDsR05lIQR&confirm=t&uuid=bac0e9ad-4eef-4e73-b00d-5fb3750c818d\n",
            "To: /content/data.zip\n",
            "100% 372M/372M [00:04<00:00, 77.2MB/s]\n",
            "Archive:  data.zip\n",
            "   creating: timit_11/\n",
            "  inflating: timit_11/train_11.npy   \n",
            "  inflating: timit_11/test_11.npy    \n",
            "  inflating: timit_11/train_label_11.npy  \n",
            "data.zip  sample_data  timit_11\n"
          ]
        }
      ]
    },
    {
      "cell_type": "markdown",
      "metadata": {
        "id": "_L_4anls8Drv"
      },
      "source": [
        "## Preparing Data\n",
        "Load the training and testing data from the `.npy` file (NumPy array)."
      ]
    },
    {
      "cell_type": "code",
      "metadata": {
        "colab": {
          "base_uri": "https://localhost:8080/"
        },
        "id": "IJjLT8em-y9G",
        "outputId": "6d12fb84-09ac-489b-b13b-bac656926d2d"
      },
      "source": [
        "import numpy as np\n",
        "\n",
        "print('Loading data ...')\n",
        "\n",
        "data_root='./timit_11/'\n",
        "train = np.load(data_root + 'train_11.npy')\n",
        "train_label = np.load(data_root + 'train_label_11.npy')\n",
        "test = np.load(data_root + 'test_11.npy')\n",
        "\n",
        "print('Size of training data: {}'.format(train.shape))\n",
        "print('Size of testing data: {}'.format(test.shape))"
      ],
      "execution_count": null,
      "outputs": [
        {
          "output_type": "stream",
          "name": "stdout",
          "text": [
            "Loading data ...\n",
            "Size of training data: (1229932, 429)\n",
            "Size of testing data: (451552, 429)\n"
          ]
        }
      ]
    },
    {
      "cell_type": "markdown",
      "metadata": {
        "id": "us5XW_x6udZQ"
      },
      "source": [
        "## Create Dataset"
      ]
    },
    {
      "cell_type": "code",
      "metadata": {
        "id": "Fjf5EcmJtf4e"
      },
      "source": [
        "import torch\n",
        "from torch.utils.data import Dataset\n",
        "\n",
        "class TIMITDataset(Dataset):\n",
        "    def __init__(self, X, y=None):\n",
        "        self.data = torch.from_numpy(X).float()\n",
        "        if y is not None:\n",
        "            y = y.astype(int)\n",
        "            self.label = torch.LongTensor(y)\n",
        "        else:\n",
        "            self.label = None\n",
        "\n",
        "    def __getitem__(self, idx):\n",
        "        if self.label is not None:\n",
        "            return self.data[idx], self.label[idx]\n",
        "        else:\n",
        "            return self.data[idx]\n",
        "\n",
        "    def __len__(self):\n",
        "        return len(self.data)\n"
      ],
      "execution_count": null,
      "outputs": []
    },
    {
      "cell_type": "markdown",
      "metadata": {
        "id": "otIC6WhGeh9v"
      },
      "source": [
        "Split the labeled data into a training set and a validation set, you can modify the variable `VAL_RATIO` to change the ratio of validation data."
      ]
    },
    {
      "cell_type": "code",
      "metadata": {
        "colab": {
          "base_uri": "https://localhost:8080/"
        },
        "id": "sYqi_lAuvC59",
        "outputId": "34c8d59d-0f1f-4299-91aa-cc81a2eda209"
      },
      "source": [
        "VAL_RATIO = 0.2\n",
        "\n",
        "percent = int(train.shape[0] * (1 - VAL_RATIO))\n",
        "train_x, train_y, val_x, val_y = train[:percent], train_label[:percent], train[percent:], train_label[percent:]\n",
        "print('Size of training set: {}'.format(train_x.shape))\n",
        "print('Size of validation set: {}'.format(val_x.shape))"
      ],
      "execution_count": null,
      "outputs": [
        {
          "output_type": "stream",
          "name": "stdout",
          "text": [
            "Size of training set: (983945, 429)\n",
            "Size of validation set: (245987, 429)\n"
          ]
        }
      ]
    },
    {
      "cell_type": "markdown",
      "metadata": {
        "id": "nbCfclUIgMTX"
      },
      "source": [
        "Create a data loader from the dataset, feel free to tweak the variable `BATCH_SIZE` here."
      ]
    },
    {
      "cell_type": "code",
      "metadata": {
        "id": "RUCbQvqJurYc"
      },
      "source": [
        "BATCH_SIZE = 64\n",
        "\n",
        "from torch.utils.data import DataLoader\n",
        "\n",
        "train_set = TIMITDataset(train_x, train_y)\n",
        "val_set = TIMITDataset(val_x, val_y)\n",
        "train_loader = DataLoader(train_set, batch_size=BATCH_SIZE, shuffle=True) #only shuffle the training data\n",
        "val_loader = DataLoader(val_set, batch_size=BATCH_SIZE, shuffle=False)"
      ],
      "execution_count": null,
      "outputs": []
    },
    {
      "cell_type": "markdown",
      "metadata": {
        "id": "_SY7X0lUgb50"
      },
      "source": [
        "Cleanup the unneeded variables to save memory.<br>\n",
        "\n",
        "**notes: if you need to use these variables later, then you may remove this block or clean up unneeded variables later<br>the data size is quite huge, so be aware of memory usage in colab**"
      ]
    },
    {
      "cell_type": "code",
      "metadata": {
        "colab": {
          "base_uri": "https://localhost:8080/"
        },
        "id": "y8rzkGraeYeN",
        "outputId": "1f42966d-42f2-468c-8e9d-0ba42479bac4"
      },
      "source": [
        "import gc\n",
        "\n",
        "del train, train_label, train_x, train_y, val_x, val_y\n",
        "gc.collect()"
      ],
      "execution_count": null,
      "outputs": [
        {
          "output_type": "execute_result",
          "data": {
            "text/plain": [
              "30"
            ]
          },
          "metadata": {},
          "execution_count": 6
        }
      ]
    },
    {
      "cell_type": "markdown",
      "metadata": {
        "id": "IRqKNvNZwe3V"
      },
      "source": [
        "## Create Model"
      ]
    },
    {
      "cell_type": "markdown",
      "metadata": {
        "id": "FYr1ng5fh9pA"
      },
      "source": [
        "Define model architecture, you are encouraged to change and experiment with the model architecture."
      ]
    },
    {
      "cell_type": "code",
      "metadata": {
        "id": "lbZrwT6Ny0XL"
      },
      "source": [
        "import torch\n",
        "import torch.nn as nn\n",
        "\n",
        "# class Classifier(nn.Module):\n",
        "#     def __init__(self):\n",
        "#         super(Classifier, self).__init__()\n",
        "#         self.layer1 = nn.Linear(429, 1024)\n",
        "#         self.layer2 = nn.Linear(1024, 512)\n",
        "#         self.layer3 = nn.Linear(512, 128)\n",
        "#         self.out = nn.Linear(128, 39)\n",
        "\n",
        "#         self.act_fn = nn.Sigmoid()\n",
        "\n",
        "#     def forward(self, x):\n",
        "#         x = self.layer1(x)\n",
        "#         x = self.act_fn(x)\n",
        "\n",
        "#         x = self.layer2(x)\n",
        "#         x = self.act_fn(x)\n",
        "\n",
        "#         x = self.layer3(x)\n",
        "#         x = self.act_fn(x)\n",
        "\n",
        "#         x = self.out(x)\n",
        "\n",
        "#         return x\n",
        "\n",
        "class Classifier(nn.Module):\n",
        "  def __init__(self):\n",
        "    super(Classifier, self).__init__()\n",
        "    self.net = nn.Sequential(\n",
        "        nn.Linear(429, 1024),\n",
        "        nn.Sigmoid(),\n",
        "\n",
        "        nn.Linear(1024, 512),\n",
        "        nn.Sigmoid(),\n",
        "\n",
        "        nn.Linear(512, 128),\n",
        "        nn.Sigmoid(),\n",
        "\n",
        "        nn.Linear(128, 39),\n",
        "        nn.Sigmoid()\n",
        "\n",
        "    )\n",
        "\n",
        "  def forward(self, x):\n",
        "    return self.net(x)\n",
        "\n"
      ],
      "execution_count": null,
      "outputs": []
    },
    {
      "cell_type": "markdown",
      "metadata": {
        "id": "VRYciXZvPbYh"
      },
      "source": [
        "## Training"
      ]
    },
    {
      "cell_type": "code",
      "metadata": {
        "id": "y114Vmm3Ja6o"
      },
      "source": [
        "#check device\n",
        "def get_device():\n",
        "  return 'cuda' if torch.cuda.is_available() else 'cpu'"
      ],
      "execution_count": null,
      "outputs": []
    },
    {
      "cell_type": "markdown",
      "metadata": {
        "id": "sEX-yjHjhGuH"
      },
      "source": [
        "Fix random seeds for reproducibility."
      ]
    },
    {
      "cell_type": "code",
      "metadata": {
        "id": "88xPiUnm0tAd"
      },
      "source": [
        "# fix random seed\n",
        "def same_seeds(seed):\n",
        "    torch.manual_seed(seed)\n",
        "    if torch.cuda.is_available():\n",
        "        torch.cuda.manual_seed(seed)\n",
        "        torch.cuda.manual_seed_all(seed)\n",
        "    np.random.seed(seed)\n",
        "    torch.backends.cudnn.benchmark = False\n",
        "    torch.backends.cudnn.deterministic = True"
      ],
      "execution_count": null,
      "outputs": []
    },
    {
      "cell_type": "markdown",
      "metadata": {
        "id": "KbBcBXkSp6RA"
      },
      "source": [
        "Feel free to change the training parameters here."
      ]
    },
    {
      "cell_type": "code",
      "metadata": {
        "id": "QTp3ZXg1yO9Y",
        "outputId": "22e78d0e-a49e-42df-e14d-c9e3f2369b3e",
        "colab": {
          "base_uri": "https://localhost:8080/"
        }
      },
      "source": [
        "# fix random seed for reproducibility\n",
        "same_seeds(0)\n",
        "\n",
        "# get device\n",
        "device = get_device()\n",
        "print(f'DEVICE: {device}')\n",
        "\n",
        "# training parameters\n",
        "num_epoch = 40               # number of training epoch\n",
        "learning_rate = 0.00005       # learning rate\n",
        "\n",
        "# the path where checkpoint saved\n",
        "model_path = './model.ckpt'\n",
        "\n",
        "# create model, define a loss function, and optimizer\n",
        "model = Classifier().to(device)\n",
        "criterion = nn.CrossEntropyLoss()"
      ],
      "execution_count": null,
      "outputs": [
        {
          "output_type": "stream",
          "name": "stdout",
          "text": [
            "DEVICE: cuda\n"
          ]
        }
      ]
    },
    {
      "cell_type": "code",
      "metadata": {
        "id": "CdMWsBs7zzNs",
        "colab": {
          "base_uri": "https://localhost:8080/"
        },
        "outputId": "01549091-756c-4603-c0aa-ff366103d95d"
      },
      "source": [
        "# start training\n",
        "\n",
        "best_acc = 0.0\n",
        "for epoch in range(num_epoch):\n",
        "    train_acc = 0.0\n",
        "    train_loss = 0.0\n",
        "    val_acc = 0.0\n",
        "    val_loss = 0.0\n",
        "\n",
        "    # training\n",
        "    model.train() # set the model to training mode\n",
        "    for i, data in enumerate(train_loader):\n",
        "        inputs, labels = data\n",
        "        inputs, labels = inputs.to(device), labels.to(device)\n",
        "        if(i < len(train_loader)/8 ):\n",
        "          optimizer = torch.optim.Adam(model.parameters(), lr=learning_rate*10)\n",
        "        elif(i < len(train_loader)/4 ):\n",
        "          optimizer = torch.optim.Adam(model.parameters(), lr=learning_rate*5)\n",
        "        elif(i < len(train_loader)3/4 ):\n",
        "          optimizer = torch.optim.Adam(model.parameters(), lr=learning_rate*2)\n",
        "        else:\n",
        "          optimizer = torch.optim.Adam(model.parameters(), lr=learning_rate/2)\n",
        "        optimizer.zero_grad()\n",
        "\n",
        "        outputs = model(inputs)         #前向传播\n",
        "        batch_loss = criterion(outputs, labels)\n",
        "        _, train_pred = torch.max(outputs, 1) # get the index of the class with the highest probability\n",
        "        batch_loss.backward()           #反向传播\n",
        "        optimizer.step()\n",
        "\n",
        "        train_acc += (train_pred.cpu() == labels.cpu()).sum().item()\n",
        "        train_loss += batch_loss.item()\n",
        "\n",
        "    # validation\n",
        "    if len(val_set) > 0:\n",
        "        model.eval() # set the model to evaluation mode\n",
        "        with torch.no_grad():\n",
        "            for i, data in enumerate(val_loader):\n",
        "                inputs, labels = data\n",
        "                inputs, labels = inputs.to(device), labels.to(device)\n",
        "                outputs = model(inputs)\n",
        "                batch_loss = criterion(outputs, labels)\n",
        "                _, val_pred = torch.max(outputs, 1)\n",
        "\n",
        "                val_acc += (val_pred.cpu() == labels.cpu()).sum().item() # get the index of the class with the highest probability\n",
        "                val_loss += batch_loss.item()\n",
        "\n",
        "            print('[{:03d}/{:03d}] Train Acc: {:3.6f} Loss: {:3.6f} | Val Acc: {:3.6f} loss: {:3.6f}'.format(\n",
        "                epoch + 1, num_epoch, train_acc/len(train_set), train_loss/len(train_loader), val_acc/len(val_set), val_loss/len(val_loader)\n",
        "            ))\n",
        "\n",
        "            # if the model improves, save a checkpoint at this epoch\n",
        "            if val_acc > best_acc:\n",
        "                best_acc = val_acc\n",
        "                torch.save(model.state_dict(), model_path)\n",
        "                print('saving model with acc {:.3f}'.format(best_acc/len(val_set)))\n",
        "    else:\n",
        "        print('[{:03d}/{:03d}] Train Acc: {:3.6f} Loss: {:3.6f}'.format(\n",
        "            epoch + 1, num_epoch, train_acc/len(train_set), train_loss/len(train_loader)\n",
        "        ))\n",
        "\n",
        "# if not validating, save the last epoch\n",
        "if len(val_set) == 0:\n",
        "    torch.save(model.state_dict(), model_path)\n",
        "    print('saving model at last epoch')\n"
      ],
      "execution_count": null,
      "outputs": [
        {
          "output_type": "stream",
          "name": "stdout",
          "text": [
            "[001/040] Train Acc: 0.459721 Loss: 3.052326 | Val Acc: 0.481302 loss: 3.043728\n",
            "saving model with acc 0.481\n",
            "[002/040] Train Acc: 0.478667 Loss: 3.048503 | Val Acc: 0.496925 loss: 3.039631\n",
            "saving model with acc 0.497\n",
            "[003/040] Train Acc: 0.502590 Loss: 3.046868 | Val Acc: 0.519353 loss: 3.043247\n",
            "saving model with acc 0.519\n",
            "[004/040] Train Acc: 0.515407 Loss: 3.048897 | Val Acc: 0.524690 loss: 3.046690\n",
            "saving model with acc 0.525\n",
            "[005/040] Train Acc: 0.523457 Loss: 3.054267 | Val Acc: 0.532061 loss: 3.052146\n",
            "saving model with acc 0.532\n",
            "[006/040] Train Acc: 0.527020 Loss: 3.061419 | Val Acc: 0.536439 loss: 3.058185\n",
            "saving model with acc 0.536\n",
            "[007/040] Train Acc: 0.529146 Loss: 3.068411 | Val Acc: 0.531500 loss: 3.063812\n",
            "[008/040] Train Acc: 0.529942 Loss: 3.073268 | Val Acc: 0.531666 loss: 3.069957\n",
            "[009/040] Train Acc: 0.531156 Loss: 3.077774 | Val Acc: 0.543240 loss: 3.075077\n",
            "saving model with acc 0.543\n",
            "[010/040] Train Acc: 0.534688 Loss: 3.080453 | Val Acc: 0.542561 loss: 3.077406\n",
            "[011/040] Train Acc: 0.537382 Loss: 3.081956 | Val Acc: 0.545362 loss: 3.078946\n",
            "saving model with acc 0.545\n",
            "[012/040] Train Acc: 0.540527 Loss: 3.082394 | Val Acc: 0.548622 loss: 3.079998\n",
            "saving model with acc 0.549\n",
            "[013/040] Train Acc: 0.543410 Loss: 3.082868 | Val Acc: 0.548212 loss: 3.082100\n",
            "[014/040] Train Acc: 0.548979 Loss: 3.085272 | Val Acc: 0.552863 loss: 3.085414\n",
            "saving model with acc 0.553\n",
            "[015/040] Train Acc: 0.550744 Loss: 3.087897 | Val Acc: 0.556533 loss: 3.086392\n",
            "saving model with acc 0.557\n",
            "[016/040] Train Acc: 0.550936 Loss: 3.091616 | Val Acc: 0.551269 loss: 3.090884\n",
            "[017/040] Train Acc: 0.550868 Loss: 3.095252 | Val Acc: 0.554131 loss: 3.095412\n",
            "[018/040] Train Acc: 0.549734 Loss: 3.099571 | Val Acc: 0.552395 loss: 3.097921\n",
            "[019/040] Train Acc: 0.549142 Loss: 3.103696 | Val Acc: 0.551110 loss: 3.101744\n",
            "[020/040] Train Acc: 0.547180 Loss: 3.109521 | Val Acc: 0.549826 loss: 3.110643\n",
            "[021/040] Train Acc: 0.545871 Loss: 3.113777 | Val Acc: 0.547964 loss: 3.113822\n",
            "[022/040] Train Acc: 0.546228 Loss: 3.118285 | Val Acc: 0.549517 loss: 3.118266\n",
            "[023/040] Train Acc: 0.547872 Loss: 3.123673 | Val Acc: 0.548956 loss: 3.121141\n",
            "[024/040] Train Acc: 0.549407 Loss: 3.128380 | Val Acc: 0.550330 loss: 3.129178\n",
            "[025/040] Train Acc: 0.551238 Loss: 3.132299 | Val Acc: 0.553659 loss: 3.132456\n",
            "[026/040] Train Acc: 0.552387 Loss: 3.136600 | Val Acc: 0.560371 loss: 3.130694\n",
            "saving model with acc 0.560\n",
            "[027/040] Train Acc: 0.554631 Loss: 3.138690 | Val Acc: 0.561107 loss: 3.137131\n",
            "saving model with acc 0.561\n",
            "[028/040] Train Acc: 0.556272 Loss: 3.141633 | Val Acc: 0.565355 loss: 3.140294\n",
            "saving model with acc 0.565\n",
            "[029/040] Train Acc: 0.558289 Loss: 3.143612 | Val Acc: 0.559188 loss: 3.137604\n",
            "[030/040] Train Acc: 0.560804 Loss: 3.145682 | Val Acc: 0.562339 loss: 3.146532\n",
            "[031/040] Train Acc: 0.563628 Loss: 3.147254 | Val Acc: 0.567388 loss: 3.144522\n",
            "saving model with acc 0.567\n",
            "[032/040] Train Acc: 0.566753 Loss: 3.148626 | Val Acc: 0.570636 loss: 3.146585\n",
            "saving model with acc 0.571\n",
            "[033/040] Train Acc: 0.570803 Loss: 3.149104 | Val Acc: 0.575795 loss: 3.148290\n",
            "saving model with acc 0.576\n",
            "[034/040] Train Acc: 0.573791 Loss: 3.150078 | Val Acc: 0.576766 loss: 3.149929\n",
            "saving model with acc 0.577\n",
            "[035/040] Train Acc: 0.575637 Loss: 3.150167 | Val Acc: 0.577689 loss: 3.149717\n",
            "saving model with acc 0.578\n",
            "[036/040] Train Acc: 0.577663 Loss: 3.150710 | Val Acc: 0.579392 loss: 3.150882\n",
            "saving model with acc 0.579\n",
            "[037/040] Train Acc: 0.578554 Loss: 3.151630 | Val Acc: 0.579758 loss: 3.151430\n",
            "saving model with acc 0.580\n",
            "[038/040] Train Acc: 0.580212 Loss: 3.152495 | Val Acc: 0.582559 loss: 3.152077\n",
            "saving model with acc 0.583\n",
            "[039/040] Train Acc: 0.581576 Loss: 3.153150 | Val Acc: 0.583169 loss: 3.152767\n",
            "saving model with acc 0.583\n",
            "[040/040] Train Acc: 0.583503 Loss: 3.152853 | Val Acc: 0.583015 loss: 3.154624\n"
          ]
        }
      ]
    },
    {
      "cell_type": "markdown",
      "metadata": {
        "id": "1Hi7jTn3PX-m"
      },
      "source": [
        "## Testing"
      ]
    },
    {
      "cell_type": "markdown",
      "metadata": {
        "id": "NfUECMFCn5VG"
      },
      "source": [
        "Create a testing dataset, and load model from the saved checkpoint."
      ]
    },
    {
      "cell_type": "code",
      "metadata": {
        "id": "1PKjtAScPWtr",
        "colab": {
          "base_uri": "https://localhost:8080/"
        },
        "outputId": "8b70c773-5d18-4f05-b7db-8afdf362f790"
      },
      "source": [
        "# create testing dataset\n",
        "test_set = TIMITDataset(test, None)\n",
        "test_loader = DataLoader(test_set, batch_size=BATCH_SIZE, shuffle=False)\n",
        "\n",
        "# create model and load weights from checkpoint\n",
        "model = Classifier().to(device)\n",
        "model.load_state_dict(torch.load(model_path))"
      ],
      "execution_count": null,
      "outputs": [
        {
          "output_type": "execute_result",
          "data": {
            "text/plain": [
              "<All keys matched successfully>"
            ]
          },
          "metadata": {},
          "execution_count": 21
        }
      ]
    },
    {
      "cell_type": "markdown",
      "metadata": {
        "id": "940TtCCdoYd0"
      },
      "source": [
        "Make prediction."
      ]
    },
    {
      "cell_type": "code",
      "metadata": {
        "id": "84HU5GGjPqR0"
      },
      "source": [
        "predict = []\n",
        "model.eval() # set the model to evaluation mode\n",
        "with torch.no_grad():\n",
        "    for i, data in enumerate(test_loader):\n",
        "        inputs = data\n",
        "        inputs = inputs.to(device)\n",
        "        outputs = model(inputs)\n",
        "        _, test_pred = torch.max(outputs, 1) # get the index of the class with the highest probability\n",
        "\n",
        "        for y in test_pred.cpu().numpy():\n",
        "            predict.append(y)"
      ],
      "execution_count": null,
      "outputs": []
    },
    {
      "cell_type": "markdown",
      "metadata": {
        "id": "AWDf_C-omElb"
      },
      "source": [
        "Write prediction to a CSV file.\n",
        "\n",
        "After finish running this block, download the file `prediction.csv` from the files section on the left-hand side and submit it to Kaggle."
      ]
    },
    {
      "cell_type": "code",
      "metadata": {
        "id": "GuljYSPHcZir"
      },
      "source": [
        "with open('prediction.csv', 'w') as f:\n",
        "    f.write('Id,Class\\n')\n",
        "    for i, y in enumerate(predict):\n",
        "        f.write('{},{}\\n'.format(i, y))"
      ],
      "execution_count": null,
      "outputs": []
    }
  ]
}