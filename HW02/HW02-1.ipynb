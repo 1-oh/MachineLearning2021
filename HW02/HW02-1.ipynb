{
  "nbformat": 4,
  "nbformat_minor": 0,
  "metadata": {
    "accelerator": "GPU",
    "colab": {
      "name": "SHARE MLSpring2021 - HW2-1.ipynb",
      "provenance": [],
      "include_colab_link": true
    },
    "kernelspec": {
      "display_name": "Python 3",
      "name": "python3"
    }
  },
  "cells": [
    {
      "cell_type": "markdown",
      "metadata": {
        "id": "view-in-github",
        "colab_type": "text"
      },
      "source": [
        "<a href=\"https://colab.research.google.com/github/1-oh/MachineLearning2021/blob/Homework2/HW02/HW02-1.ipynb\" target=\"_parent\"><img src=\"https://colab.research.google.com/assets/colab-badge.svg\" alt=\"Open In Colab\"/></a>"
      ]
    },
    {
      "cell_type": "markdown",
      "metadata": {
        "id": "OYlaRwNu7ojq"
      },
      "source": [
        "# **Homework 2-1 Phoneme Classification**\n",
        "\n",
        "* Slides: https://speech.ee.ntu.edu.tw/~hylee/ml/ml2021-course-data/hw/HW02/HW02.pdf\n",
        "* Video (Chinese): https://youtu.be/PdjXnQbu2zo\n",
        "* Video (English): https://youtu.be/ESRr-VCykBs\n"
      ]
    },
    {
      "cell_type": "markdown",
      "metadata": {
        "id": "emUd7uS7crTz"
      },
      "source": [
        "## The DARPA TIMIT Acoustic-Phonetic Continuous Speech Corpus (TIMIT)\n",
        "The TIMIT corpus of reading speech has been designed to provide speech data for the acquisition of acoustic-phonetic knowledge and for the development and evaluation of automatic speech recognition systems.\n",
        "\n",
        "This homework is a multiclass classification task,\n",
        "we are going to train a deep neural network classifier to predict the phonemes for each frame from the speech corpus TIMIT.\n",
        "\n",
        "link: https://academictorrents.com/details/34e2b78745138186976cbc27939b1b34d18bd5b3"
      ]
    },
    {
      "cell_type": "markdown",
      "metadata": {
        "id": "KVUGfWTo7_Oj"
      },
      "source": [
        "## Download Data\n",
        "Download data from google drive, then unzip it.\n",
        "\n",
        "You should have `timit_11/train_11.npy`, `timit_11/train_label_11.npy`, and `timit_11/test_11.npy` after running this block.<br><br>\n",
        "`timit_11/`\n",
        "- `train_11.npy`: training data<br>\n",
        "- `train_label_11.npy`: training label<br>\n",
        "- `test_11.npy`:  testing data<br><br>\n",
        "\n",
        "**notes: if the google drive link is dead, you can download the data directly from Kaggle and upload it to the workspace**\n",
        "\n",
        "\n"
      ]
    },
    {
      "cell_type": "code",
      "metadata": {
        "colab": {
          "base_uri": "https://localhost:8080/"
        },
        "id": "OzkiMEcC3Foq",
        "outputId": "dfed1b5c-dcaa-4b53-d7bb-9fa643bf047e"
      },
      "source": [
        "!gdown --id '1HPkcmQmFGu-3OknddKIa5dNDsR05lIQR' --output data.zip\n",
        "!unzip data.zip\n",
        "!ls"
      ],
      "execution_count": 1,
      "outputs": [
        {
          "output_type": "stream",
          "name": "stdout",
          "text": [
            "/usr/local/lib/python3.11/dist-packages/gdown/__main__.py:140: FutureWarning: Option `--id` was deprecated in version 4.3.1 and will be removed in 5.0. You don't need to pass it anymore to use a file ID.\n",
            "  warnings.warn(\n",
            "Downloading...\n",
            "From (original): https://drive.google.com/uc?id=1HPkcmQmFGu-3OknddKIa5dNDsR05lIQR\n",
            "From (redirected): https://drive.google.com/uc?id=1HPkcmQmFGu-3OknddKIa5dNDsR05lIQR&confirm=t&uuid=68a539e9-c64c-43c0-8988-81474177068a\n",
            "To: /content/data.zip\n",
            "100% 372M/372M [00:08<00:00, 46.3MB/s]\n",
            "Archive:  data.zip\n",
            "   creating: timit_11/\n",
            "  inflating: timit_11/train_11.npy   \n",
            "  inflating: timit_11/test_11.npy    \n",
            "  inflating: timit_11/train_label_11.npy  \n",
            "data.zip  sample_data  timit_11\n"
          ]
        }
      ]
    },
    {
      "cell_type": "markdown",
      "metadata": {
        "id": "_L_4anls8Drv"
      },
      "source": [
        "## Preparing Data\n",
        "Load the training and testing data from the `.npy` file (NumPy array)."
      ]
    },
    {
      "cell_type": "code",
      "metadata": {
        "colab": {
          "base_uri": "https://localhost:8080/"
        },
        "id": "IJjLT8em-y9G",
        "outputId": "1ffd8b07-e91f-4281-d4ed-e05551070a81"
      },
      "source": [
        "import numpy as np\n",
        "\n",
        "print('Loading data ...')\n",
        "\n",
        "data_root='./timit_11/'\n",
        "train = np.load(data_root + 'train_11.npy')\n",
        "train_label = np.load(data_root + 'train_label_11.npy')\n",
        "test = np.load(data_root + 'test_11.npy')\n",
        "\n",
        "print('Size of training data: {}'.format(train.shape))\n",
        "print('Size of testing data: {}'.format(test.shape))"
      ],
      "execution_count": 2,
      "outputs": [
        {
          "output_type": "stream",
          "name": "stdout",
          "text": [
            "Loading data ...\n",
            "Size of training data: (1229932, 429)\n",
            "Size of testing data: (451552, 429)\n"
          ]
        }
      ]
    },
    {
      "cell_type": "markdown",
      "metadata": {
        "id": "us5XW_x6udZQ"
      },
      "source": [
        "## Create Dataset"
      ]
    },
    {
      "cell_type": "code",
      "metadata": {
        "id": "Fjf5EcmJtf4e"
      },
      "source": [
        "import torch\n",
        "from torch.utils.data import Dataset\n",
        "\n",
        "class TIMITDataset(Dataset):\n",
        "    def __init__(self, X, y=None):\n",
        "        self.data = torch.from_numpy(X).float()\n",
        "        if y is not None:\n",
        "            y = y.astype(int)\n",
        "            self.label = torch.LongTensor(y)\n",
        "        else:\n",
        "            self.label = None\n",
        "\n",
        "    def __getitem__(self, idx):\n",
        "        if self.label is not None:\n",
        "            return self.data[idx], self.label[idx]\n",
        "        else:\n",
        "            return self.data[idx]\n",
        "\n",
        "    def __len__(self):\n",
        "        return len(self.data)\n"
      ],
      "execution_count": 6,
      "outputs": []
    },
    {
      "cell_type": "markdown",
      "metadata": {
        "id": "otIC6WhGeh9v"
      },
      "source": [
        "Split the labeled data into a training set and a validation set, you can modify the variable `VAL_RATIO` to change the ratio of validation data."
      ]
    },
    {
      "cell_type": "code",
      "metadata": {
        "colab": {
          "base_uri": "https://localhost:8080/"
        },
        "id": "sYqi_lAuvC59",
        "outputId": "75fa019b-bb39-4a44-c455-512d9bcc412b"
      },
      "source": [
        "VAL_RATIO = 0.2\n",
        "\n",
        "percent = int(train.shape[0] * (1 - VAL_RATIO))\n",
        "train_x, train_y, val_x, val_y = train[:percent], train_label[:percent], train[percent:], train_label[percent:]\n",
        "print('Size of training set: {}'.format(train_x.shape))\n",
        "print('Size of validation set: {}'.format(val_x.shape))"
      ],
      "execution_count": 7,
      "outputs": [
        {
          "output_type": "stream",
          "name": "stdout",
          "text": [
            "Size of training set: (983945, 429)\n",
            "Size of validation set: (245987, 429)\n"
          ]
        }
      ]
    },
    {
      "cell_type": "markdown",
      "metadata": {
        "id": "nbCfclUIgMTX"
      },
      "source": [
        "Create a data loader from the dataset, feel free to tweak the variable `BATCH_SIZE` here."
      ]
    },
    {
      "cell_type": "code",
      "metadata": {
        "id": "RUCbQvqJurYc"
      },
      "source": [
        "BATCH_SIZE = 64\n",
        "\n",
        "from torch.utils.data import DataLoader\n",
        "\n",
        "train_set = TIMITDataset(train_x, train_y)\n",
        "val_set = TIMITDataset(val_x, val_y)\n",
        "train_loader = DataLoader(train_set, batch_size=BATCH_SIZE, shuffle=True) #only shuffle the training data\n",
        "val_loader = DataLoader(val_set, batch_size=BATCH_SIZE, shuffle=False)"
      ],
      "execution_count": 8,
      "outputs": []
    },
    {
      "cell_type": "markdown",
      "metadata": {
        "id": "_SY7X0lUgb50"
      },
      "source": [
        "Cleanup the unneeded variables to save memory.<br>\n",
        "\n",
        "**notes: if you need to use these variables later, then you may remove this block or clean up unneeded variables later<br>the data size is quite huge, so be aware of memory usage in colab**"
      ]
    },
    {
      "cell_type": "code",
      "metadata": {
        "colab": {
          "base_uri": "https://localhost:8080/"
        },
        "id": "y8rzkGraeYeN",
        "outputId": "92dd4a81-6cef-4e9b-a98b-d0e36c9dd91f"
      },
      "source": [
        "import gc\n",
        "\n",
        "del train, train_label, train_x, train_y, val_x, val_y\n",
        "gc.collect()"
      ],
      "execution_count": 9,
      "outputs": [
        {
          "output_type": "execute_result",
          "data": {
            "text/plain": [
              "30"
            ]
          },
          "metadata": {},
          "execution_count": 9
        }
      ]
    },
    {
      "cell_type": "markdown",
      "metadata": {
        "id": "IRqKNvNZwe3V"
      },
      "source": [
        "## Create Model"
      ]
    },
    {
      "cell_type": "markdown",
      "metadata": {
        "id": "FYr1ng5fh9pA"
      },
      "source": [
        "Define model architecture, you are encouraged to change and experiment with the model architecture."
      ]
    },
    {
      "cell_type": "code",
      "metadata": {
        "id": "lbZrwT6Ny0XL"
      },
      "source": [
        "import torch\n",
        "import torch.nn as nn\n",
        "\n",
        "# class Classifier(nn.Module):\n",
        "#     def __init__(self):\n",
        "#         super(Classifier, self).__init__()\n",
        "#         self.layer1 = nn.Linear(429, 1024)\n",
        "#         self.layer2 = nn.Linear(1024, 512)\n",
        "#         self.layer3 = nn.Linear(512, 128)\n",
        "#         self.out = nn.Linear(128, 39)\n",
        "\n",
        "#         self.act_fn = nn.Sigmoid()\n",
        "\n",
        "#     def forward(self, x):\n",
        "#         x = self.layer1(x)\n",
        "#         x = self.act_fn(x)\n",
        "\n",
        "#         x = self.layer2(x)\n",
        "#         x = self.act_fn(x)\n",
        "\n",
        "#         x = self.layer3(x)\n",
        "#         x = self.act_fn(x)\n",
        "\n",
        "#         x = self.out(x)\n",
        "\n",
        "#         return x\n",
        "\n",
        "class Classifier(nn.Module):\n",
        "  def __init__(self):\n",
        "    super(Classifier, self).__init__()\n",
        "    self.net = nn.Sequential(\n",
        "        nn.Linear(429, 1024),\n",
        "        nn.Sigmoid(),\n",
        "\n",
        "        nn.Linear(1024, 512),\n",
        "        nn.Sigmoid(),\n",
        "\n",
        "        nn.Linear(512, 128),\n",
        "        nn.Sigmoid(),\n",
        "\n",
        "        nn.Linear(128, 39),\n",
        "        nn.Sigmoid()\n",
        "\n",
        "    )\n",
        "\n",
        "  def forward(self, x):\n",
        "    return self.net(x)\n",
        "\n"
      ],
      "execution_count": 55,
      "outputs": []
    },
    {
      "cell_type": "markdown",
      "metadata": {
        "id": "VRYciXZvPbYh"
      },
      "source": [
        "## Training"
      ]
    },
    {
      "cell_type": "code",
      "metadata": {
        "id": "y114Vmm3Ja6o"
      },
      "source": [
        "#check device\n",
        "def get_device():\n",
        "  return 'cuda' if torch.cuda.is_available() else 'cpu'"
      ],
      "execution_count": 56,
      "outputs": []
    },
    {
      "cell_type": "markdown",
      "metadata": {
        "id": "sEX-yjHjhGuH"
      },
      "source": [
        "Fix random seeds for reproducibility."
      ]
    },
    {
      "cell_type": "code",
      "metadata": {
        "id": "88xPiUnm0tAd"
      },
      "source": [
        "# fix random seed\n",
        "def same_seeds(seed):\n",
        "    torch.manual_seed(seed)\n",
        "    if torch.cuda.is_available():\n",
        "        torch.cuda.manual_seed(seed)\n",
        "        torch.cuda.manual_seed_all(seed)\n",
        "    np.random.seed(seed)\n",
        "    torch.backends.cudnn.benchmark = False\n",
        "    torch.backends.cudnn.deterministic = True"
      ],
      "execution_count": 57,
      "outputs": []
    },
    {
      "cell_type": "markdown",
      "metadata": {
        "id": "KbBcBXkSp6RA"
      },
      "source": [
        "Feel free to change the training parameters here."
      ]
    },
    {
      "cell_type": "code",
      "metadata": {
        "id": "QTp3ZXg1yO9Y",
        "outputId": "59e71f49-784c-4bce-e9bb-410d6011aef1",
        "colab": {
          "base_uri": "https://localhost:8080/"
        }
      },
      "source": [
        "# fix random seed for reproducibility\n",
        "same_seeds(0)\n",
        "\n",
        "# get device\n",
        "device = get_device()\n",
        "print(f'DEVICE: {device}')\n",
        "\n",
        "# training parameters\n",
        "num_epoch = 40               # number of training epoch\n",
        "learning_rate = 0.0001       # learning rate\n",
        "\n",
        "# the path where checkpoint saved\n",
        "model_path = './model.ckpt'\n",
        "\n",
        "# create model, define a loss function, and optimizer\n",
        "model = Classifier().to(device)\n",
        "criterion = nn.CrossEntropyLoss()\n",
        "optimizer = torch.optim.Adam(model.parameters(), lr=learning_rate)"
      ],
      "execution_count": 60,
      "outputs": [
        {
          "output_type": "stream",
          "name": "stdout",
          "text": [
            "DEVICE: cuda\n"
          ]
        }
      ]
    },
    {
      "cell_type": "code",
      "metadata": {
        "id": "CdMWsBs7zzNs",
        "colab": {
          "base_uri": "https://localhost:8080/"
        },
        "outputId": "1c26223b-2dce-4c6b-d7b8-40c778cfd8c5"
      },
      "source": [
        "# start training\n",
        "\n",
        "best_acc = 0.0\n",
        "for epoch in range(num_epoch):\n",
        "    train_acc = 0.0\n",
        "    train_loss = 0.0\n",
        "    val_acc = 0.0\n",
        "    val_loss = 0.0\n",
        "\n",
        "    # training\n",
        "    model.train() # set the model to training mode\n",
        "    for i, data in enumerate(train_loader):\n",
        "        inputs, labels = data\n",
        "        inputs, labels = inputs.to(device), labels.to(device)\n",
        "        optimizer.zero_grad()\n",
        "        outputs = model(inputs)\n",
        "        batch_loss = criterion(outputs, labels)\n",
        "        _, train_pred = torch.max(outputs, 1) # get the index of the class with the highest probability\n",
        "        batch_loss.backward()\n",
        "        optimizer.step()\n",
        "\n",
        "        train_acc += (train_pred.cpu() == labels.cpu()).sum().item()\n",
        "        train_loss += batch_loss.item()\n",
        "\n",
        "    # validation\n",
        "    if len(val_set) > 0:\n",
        "        model.eval() # set the model to evaluation mode\n",
        "        with torch.no_grad():\n",
        "            for i, data in enumerate(val_loader):\n",
        "                inputs, labels = data\n",
        "                inputs, labels = inputs.to(device), labels.to(device)\n",
        "                outputs = model(inputs)\n",
        "                batch_loss = criterion(outputs, labels)\n",
        "                _, val_pred = torch.max(outputs, 1)\n",
        "\n",
        "                val_acc += (val_pred.cpu() == labels.cpu()).sum().item() # get the index of the class with the highest probability\n",
        "                val_loss += batch_loss.item()\n",
        "\n",
        "            print('[{:03d}/{:03d}] Train Acc: {:3.6f} Loss: {:3.6f} | Val Acc: {:3.6f} loss: {:3.6f}'.format(\n",
        "                epoch + 1, num_epoch, train_acc/len(train_set), train_loss/len(train_loader), val_acc/len(val_set), val_loss/len(val_loader)\n",
        "            ))\n",
        "\n",
        "            # if the model improves, save a checkpoint at this epoch\n",
        "            if val_acc > best_acc:\n",
        "                best_acc = val_acc\n",
        "                torch.save(model.state_dict(), model_path)\n",
        "                print('saving model with acc {:.3f}'.format(best_acc/len(val_set)))\n",
        "    else:\n",
        "        print('[{:03d}/{:03d}] Train Acc: {:3.6f} Loss: {:3.6f}'.format(\n",
        "            epoch + 1, num_epoch, train_acc/len(train_set), train_loss/len(train_loader)\n",
        "        ))\n",
        "\n",
        "# if not validating, save the last epoch\n",
        "if len(val_set) == 0:\n",
        "    torch.save(model.state_dict(), model_path)\n",
        "    print('saving model at last epoch')\n"
      ],
      "execution_count": 61,
      "outputs": [
        {
          "output_type": "stream",
          "name": "stdout",
          "text": [
            "[001/040] Train Acc: 0.229186 Loss: 3.147978 | Val Acc: 0.309309 loss: 3.032238\n",
            "saving model with acc 0.309\n",
            "[002/040] Train Acc: 0.360090 Loss: 2.997144 | Val Acc: 0.408778 loss: 2.969828\n",
            "saving model with acc 0.409\n",
            "[003/040] Train Acc: 0.440548 Loss: 2.952892 | Val Acc: 0.467358 loss: 2.938251\n",
            "saving model with acc 0.467\n",
            "[004/040] Train Acc: 0.477856 Loss: 2.926967 | Val Acc: 0.491697 loss: 2.919981\n",
            "saving model with acc 0.492\n",
            "[005/040] Train Acc: 0.500368 Loss: 2.910952 | Val Acc: 0.519097 loss: 2.908068\n",
            "saving model with acc 0.519\n",
            "[006/040] Train Acc: 0.518083 Loss: 2.898526 | Val Acc: 0.524381 loss: 2.901144\n",
            "saving model with acc 0.524\n",
            "[007/040] Train Acc: 0.531575 Loss: 2.888801 | Val Acc: 0.539183 loss: 2.895518\n",
            "saving model with acc 0.539\n",
            "[008/040] Train Acc: 0.543748 Loss: 2.880856 | Val Acc: 0.551936 loss: 2.889685\n",
            "saving model with acc 0.552\n",
            "[009/040] Train Acc: 0.555568 Loss: 2.874217 | Val Acc: 0.562131 loss: 2.887833\n",
            "saving model with acc 0.562\n",
            "[010/040] Train Acc: 0.566526 Loss: 2.868341 | Val Acc: 0.569282 loss: 2.885746\n",
            "saving model with acc 0.569\n",
            "[011/040] Train Acc: 0.576396 Loss: 2.863308 | Val Acc: 0.578482 loss: 2.883624\n",
            "saving model with acc 0.578\n",
            "[012/040] Train Acc: 0.585084 Loss: 2.858772 | Val Acc: 0.589470 loss: 2.880639\n",
            "saving model with acc 0.589\n",
            "[013/040] Train Acc: 0.593045 Loss: 2.854664 | Val Acc: 0.598154 loss: 2.878868\n",
            "saving model with acc 0.598\n",
            "[014/040] Train Acc: 0.600818 Loss: 2.850888 | Val Acc: 0.594840 loss: 2.879164\n",
            "[015/040] Train Acc: 0.607622 Loss: 2.847439 | Val Acc: 0.604548 loss: 2.876567\n",
            "saving model with acc 0.605\n",
            "[016/040] Train Acc: 0.613096 Loss: 2.844189 | Val Acc: 0.612154 loss: 2.876443\n",
            "saving model with acc 0.612\n",
            "[017/040] Train Acc: 0.619440 Loss: 2.841281 | Val Acc: 0.613728 loss: 2.877664\n",
            "saving model with acc 0.614\n",
            "[018/040] Train Acc: 0.624221 Loss: 2.838464 | Val Acc: 0.618960 loss: 2.876328\n",
            "saving model with acc 0.619\n",
            "[019/040] Train Acc: 0.628115 Loss: 2.835870 | Val Acc: 0.623785 loss: 2.873447\n",
            "saving model with acc 0.624\n",
            "[020/040] Train Acc: 0.633080 Loss: 2.833438 | Val Acc: 0.626159 loss: 2.875461\n",
            "saving model with acc 0.626\n",
            "[021/040] Train Acc: 0.635590 Loss: 2.831267 | Val Acc: 0.633298 loss: 2.872893\n",
            "saving model with acc 0.633\n",
            "[022/040] Train Acc: 0.640222 Loss: 2.829202 | Val Acc: 0.629562 loss: 2.874429\n",
            "[023/040] Train Acc: 0.642849 Loss: 2.827188 | Val Acc: 0.629919 loss: 2.875739\n",
            "[024/040] Train Acc: 0.645683 Loss: 2.825304 | Val Acc: 0.639932 loss: 2.874284\n",
            "saving model with acc 0.640\n",
            "[025/040] Train Acc: 0.648411 Loss: 2.823533 | Val Acc: 0.635249 loss: 2.874556\n",
            "[026/040] Train Acc: 0.651467 Loss: 2.821929 | Val Acc: 0.639095 loss: 2.873044\n",
            "[027/040] Train Acc: 0.654197 Loss: 2.820285 | Val Acc: 0.638615 loss: 2.873988\n",
            "[028/040] Train Acc: 0.657271 Loss: 2.818815 | Val Acc: 0.643445 loss: 2.875004\n",
            "saving model with acc 0.643\n",
            "[029/040] Train Acc: 0.659231 Loss: 2.817314 | Val Acc: 0.643408 loss: 2.874915\n",
            "[030/040] Train Acc: 0.661636 Loss: 2.815956 | Val Acc: 0.646083 loss: 2.871290\n",
            "saving model with acc 0.646\n",
            "[031/040] Train Acc: 0.663859 Loss: 2.814584 | Val Acc: 0.648290 loss: 2.875301\n",
            "saving model with acc 0.648\n",
            "[032/040] Train Acc: 0.665700 Loss: 2.813383 | Val Acc: 0.649384 loss: 2.874174\n",
            "saving model with acc 0.649\n",
            "[033/040] Train Acc: 0.667769 Loss: 2.812110 | Val Acc: 0.649217 loss: 2.875187\n",
            "[034/040] Train Acc: 0.669559 Loss: 2.811053 | Val Acc: 0.651831 loss: 2.877499\n",
            "saving model with acc 0.652\n",
            "[035/040] Train Acc: 0.671595 Loss: 2.809852 | Val Acc: 0.651242 loss: 2.876188\n",
            "[036/040] Train Acc: 0.673162 Loss: 2.808816 | Val Acc: 0.653128 loss: 2.873425\n",
            "saving model with acc 0.653\n",
            "[037/040] Train Acc: 0.675432 Loss: 2.807711 | Val Acc: 0.653217 loss: 2.878242\n",
            "saving model with acc 0.653\n",
            "[038/040] Train Acc: 0.676614 Loss: 2.806819 | Val Acc: 0.655535 loss: 2.877480\n",
            "saving model with acc 0.656\n",
            "[039/040] Train Acc: 0.677780 Loss: 2.805804 | Val Acc: 0.653953 loss: 2.876737\n",
            "[040/040] Train Acc: 0.679585 Loss: 2.804931 | Val Acc: 0.656270 loss: 2.878307\n",
            "saving model with acc 0.656\n"
          ]
        }
      ]
    },
    {
      "cell_type": "markdown",
      "metadata": {
        "id": "1Hi7jTn3PX-m"
      },
      "source": [
        "## Testing"
      ]
    },
    {
      "cell_type": "markdown",
      "metadata": {
        "id": "NfUECMFCn5VG"
      },
      "source": [
        "Create a testing dataset, and load model from the saved checkpoint."
      ]
    },
    {
      "cell_type": "code",
      "metadata": {
        "id": "1PKjtAScPWtr",
        "colab": {
          "base_uri": "https://localhost:8080/"
        },
        "outputId": "8b17dbe6-340b-4fb1-941c-c722f00cd847"
      },
      "source": [
        "# create testing dataset\n",
        "test_set = TIMITDataset(test, None)\n",
        "test_loader = DataLoader(test_set, batch_size=BATCH_SIZE, shuffle=False)\n",
        "\n",
        "# create model and load weights from checkpoint\n",
        "model = Classifier().to(device)\n",
        "model.load_state_dict(torch.load(model_path))"
      ],
      "execution_count": 63,
      "outputs": [
        {
          "output_type": "execute_result",
          "data": {
            "text/plain": [
              "<All keys matched successfully>"
            ]
          },
          "metadata": {},
          "execution_count": 63
        }
      ]
    },
    {
      "cell_type": "markdown",
      "metadata": {
        "id": "940TtCCdoYd0"
      },
      "source": [
        "Make prediction."
      ]
    },
    {
      "cell_type": "code",
      "metadata": {
        "id": "84HU5GGjPqR0"
      },
      "source": [
        "predict = []\n",
        "model.eval() # set the model to evaluation mode\n",
        "with torch.no_grad():\n",
        "    for i, data in enumerate(test_loader):\n",
        "        inputs = data\n",
        "        inputs = inputs.to(device)\n",
        "        outputs = model(inputs)\n",
        "        _, test_pred = torch.max(outputs, 1) # get the index of the class with the highest probability\n",
        "\n",
        "        for y in test_pred.cpu().numpy():\n",
        "            predict.append(y)"
      ],
      "execution_count": 67,
      "outputs": []
    },
    {
      "cell_type": "markdown",
      "metadata": {
        "id": "AWDf_C-omElb"
      },
      "source": [
        "Write prediction to a CSV file.\n",
        "\n",
        "After finish running this block, download the file `prediction.csv` from the files section on the left-hand side and submit it to Kaggle."
      ]
    },
    {
      "cell_type": "code",
      "metadata": {
        "id": "GuljYSPHcZir"
      },
      "source": [
        "with open('prediction.csv', 'w') as f:\n",
        "    f.write('Id,Class\\n')\n",
        "    for i, y in enumerate(predict):\n",
        "        f.write('{},{}\\n'.format(i, y))"
      ],
      "execution_count": 68,
      "outputs": []
    }
  ]
}